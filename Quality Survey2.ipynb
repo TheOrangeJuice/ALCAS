{
 "cells": [
  {
   "cell_type": "code",
   "execution_count": 38,
   "metadata": {},
   "outputs": [],
   "source": [
    "from IPython.display import HTML"
   ]
  },
  {
   "cell_type": "code",
   "execution_count": 1,
   "metadata": {},
   "outputs": [],
   "source": [
    "#Load the required packages\n",
    "import numpy as np\n",
    "import pandas as pd\n",
    "import matplotlib.pyplot as plt\n",
    "\n",
    "#Plot styling\n",
    "import seaborn as sns; sns.set()  # for plot styling\n",
    "%matplotlib inline\n",
    "\n",
    "plt.rcParams['figure.figsize'] = (16, 9)\n",
    "plt.style.use('ggplot')"
   ]
  },
  {
   "cell_type": "code",
   "execution_count": 2,
   "metadata": {},
   "outputs": [],
   "source": [
    "dataset=pd.read_csv('Dati_Tutto_190405/CSV/Soddisfazione Clienti.csv')"
   ]
  },
  {
   "cell_type": "code",
   "execution_count": 3,
   "metadata": {},
   "outputs": [
    {
     "data": {
      "text/html": [
       "<div>\n",
       "<style scoped>\n",
       "    .dataframe tbody tr th:only-of-type {\n",
       "        vertical-align: middle;\n",
       "    }\n",
       "\n",
       "    .dataframe tbody tr th {\n",
       "        vertical-align: top;\n",
       "    }\n",
       "\n",
       "    .dataframe thead th {\n",
       "        text-align: right;\n",
       "    }\n",
       "</style>\n",
       "<table border=\"1\" class=\"dataframe\">\n",
       "  <thead>\n",
       "    <tr style=\"text-align: right;\">\n",
       "      <th></th>\n",
       "      <th>respondent_id</th>\n",
       "      <th>collector_id</th>\n",
       "      <th>custom_1</th>\n",
       "    </tr>\n",
       "  </thead>\n",
       "  <tbody>\n",
       "    <tr>\n",
       "      <th>count</th>\n",
       "      <td>3.840000e+02</td>\n",
       "      <td>384.0</td>\n",
       "      <td>0.0</td>\n",
       "    </tr>\n",
       "    <tr>\n",
       "      <th>mean</th>\n",
       "      <td>1.059915e+10</td>\n",
       "      <td>226941150.0</td>\n",
       "      <td>NaN</td>\n",
       "    </tr>\n",
       "    <tr>\n",
       "      <th>std</th>\n",
       "      <td>1.744390e+07</td>\n",
       "      <td>0.0</td>\n",
       "      <td>NaN</td>\n",
       "    </tr>\n",
       "    <tr>\n",
       "      <th>min</th>\n",
       "      <td>1.057735e+10</td>\n",
       "      <td>226941150.0</td>\n",
       "      <td>NaN</td>\n",
       "    </tr>\n",
       "    <tr>\n",
       "      <th>25%</th>\n",
       "      <td>1.058153e+10</td>\n",
       "      <td>226941150.0</td>\n",
       "      <td>NaN</td>\n",
       "    </tr>\n",
       "    <tr>\n",
       "      <th>50%</th>\n",
       "      <td>1.059926e+10</td>\n",
       "      <td>226941150.0</td>\n",
       "      <td>NaN</td>\n",
       "    </tr>\n",
       "    <tr>\n",
       "      <th>75%</th>\n",
       "      <td>1.061589e+10</td>\n",
       "      <td>226941150.0</td>\n",
       "      <td>NaN</td>\n",
       "    </tr>\n",
       "    <tr>\n",
       "      <th>max</th>\n",
       "      <td>1.064124e+10</td>\n",
       "      <td>226941150.0</td>\n",
       "      <td>NaN</td>\n",
       "    </tr>\n",
       "  </tbody>\n",
       "</table>\n",
       "</div>"
      ],
      "text/plain": [
       "       respondent_id  collector_id  custom_1\n",
       "count   3.840000e+02         384.0       0.0\n",
       "mean    1.059915e+10   226941150.0       NaN\n",
       "std     1.744390e+07           0.0       NaN\n",
       "min     1.057735e+10   226941150.0       NaN\n",
       "25%     1.058153e+10   226941150.0       NaN\n",
       "50%     1.059926e+10   226941150.0       NaN\n",
       "75%     1.061589e+10   226941150.0       NaN\n",
       "max     1.064124e+10   226941150.0       NaN"
      ]
     },
     "execution_count": 3,
     "metadata": {},
     "output_type": "execute_result"
    }
   ],
   "source": [
    "dataset.describe()"
   ]
  },
  {
   "cell_type": "code",
   "execution_count": 4,
   "metadata": {},
   "outputs": [
    {
     "data": {
      "text/html": [
       "<div>\n",
       "<style scoped>\n",
       "    .dataframe tbody tr th:only-of-type {\n",
       "        vertical-align: middle;\n",
       "    }\n",
       "\n",
       "    .dataframe tbody tr th {\n",
       "        vertical-align: top;\n",
       "    }\n",
       "\n",
       "    .dataframe thead th {\n",
       "        text-align: right;\n",
       "    }\n",
       "</style>\n",
       "<table border=\"1\" class=\"dataframe\">\n",
       "  <thead>\n",
       "    <tr style=\"text-align: right;\">\n",
       "      <th></th>\n",
       "      <th>respondent_id</th>\n",
       "      <th>collector_id</th>\n",
       "      <th>date_created</th>\n",
       "      <th>date_modified</th>\n",
       "      <th>ip_address</th>\n",
       "      <th>email_address</th>\n",
       "      <th>first_name</th>\n",
       "      <th>last_name</th>\n",
       "      <th>custom_1</th>\n",
       "      <th>Come valutate il rapporto qualità/prezzo dei prodotti ALCAS?</th>\n",
       "      <th>Come valutate il rapporto qualità/prezzo dei prodotti ALCAS rispetto alla concorrenza?</th>\n",
       "      <th>Quanto è importante il prezzo per la sua azienda nella scelta di questo tipo di prodotto?</th>\n",
       "      <th>Qual'è la vostra valutazione dei tempi di consegna rispetto alle vostre esigenze?</th>\n",
       "      <th>Qual'è la vostra valutazione del materiale di supporto tecnico e normativo fornito?</th>\n",
       "      <th>Come ritenete la capacità di ALCAS di gestire le richieste del cliente?</th>\n",
       "      <th>Come giudica la qualità di nostri prodotti?</th>\n",
       "      <th>Nel complesso, come valuta la sua esperienza con l'assistenza clienti?</th>\n",
       "      <th>Come valutate la tempestività di ALCAS nella gestione di azioni correttive e di miglioramento?</th>\n",
       "      <th>Da quanto tempo siete clienti della nostra azienda?</th>\n",
       "    </tr>\n",
       "  </thead>\n",
       "  <tbody>\n",
       "    <tr>\n",
       "      <th>0</th>\n",
       "      <td>NaN</td>\n",
       "      <td>NaN</td>\n",
       "      <td>NaN</td>\n",
       "      <td>NaN</td>\n",
       "      <td>NaN</td>\n",
       "      <td>NaN</td>\n",
       "      <td>NaN</td>\n",
       "      <td>NaN</td>\n",
       "      <td>NaN</td>\n",
       "      <td>Response</td>\n",
       "      <td>Response</td>\n",
       "      <td>Response</td>\n",
       "      <td>Response</td>\n",
       "      <td>Response</td>\n",
       "      <td>Response</td>\n",
       "      <td>Response</td>\n",
       "      <td>Response</td>\n",
       "      <td>Response</td>\n",
       "      <td>Response</td>\n",
       "    </tr>\n",
       "    <tr>\n",
       "      <th>1</th>\n",
       "      <td>1.064124e+10</td>\n",
       "      <td>226941150.0</td>\n",
       "      <td>04/04/2019 04:21:31 PM</td>\n",
       "      <td>04/04/2019 04:23:43 PM</td>\n",
       "      <td>188.152.254.88</td>\n",
       "      <td>marianicarta@gmail.com</td>\n",
       "      <td>MAR.CA. S.N.C. di MARIANI A. &amp; C.</td>\n",
       "      <td>COD. CLI.  001299</td>\n",
       "      <td>NaN</td>\n",
       "      <td>Soddisfacente</td>\n",
       "      <td>Soddisfacente</td>\n",
       "      <td>Molto importante</td>\n",
       "      <td>Soddisfacente</td>\n",
       "      <td>Molto soddisfacente</td>\n",
       "      <td>Soddisfacente</td>\n",
       "      <td>Alta qualità</td>\n",
       "      <td>Molto positiva</td>\n",
       "      <td>Abbastanza soddisfacente</td>\n",
       "      <td>Più di 3 anni</td>\n",
       "    </tr>\n",
       "    <tr>\n",
       "      <th>2</th>\n",
       "      <td>1.064026e+10</td>\n",
       "      <td>226941150.0</td>\n",
       "      <td>04/04/2019 07:55:17 AM</td>\n",
       "      <td>04/04/2019 07:57:14 AM</td>\n",
       "      <td>31.177.40.49</td>\n",
       "      <td>katerina@raygelato.it</td>\n",
       "      <td>RAY GELATO SNC DI GREGHI GIANLUCA &amp;</td>\n",
       "      <td>COD. CLI.  019226</td>\n",
       "      <td>NaN</td>\n",
       "      <td>Soddisfacente</td>\n",
       "      <td>Abbastanza soddisfacente</td>\n",
       "      <td>Abbastanza importante</td>\n",
       "      <td>Soddisfacente</td>\n",
       "      <td>Abbastanza soddisfacente</td>\n",
       "      <td>Soddisfacente</td>\n",
       "      <td>Alta qualità</td>\n",
       "      <td>Abbastanza positiva</td>\n",
       "      <td>Soddisfacente</td>\n",
       "      <td>Più di 3 anni</td>\n",
       "    </tr>\n",
       "    <tr>\n",
       "      <th>3</th>\n",
       "      <td>1.063991e+10</td>\n",
       "      <td>226941150.0</td>\n",
       "      <td>04/04/2019 03:09:04 AM</td>\n",
       "      <td>04/04/2019 03:14:50 AM</td>\n",
       "      <td>91.204.250.41</td>\n",
       "      <td>anfidistribuzione@gmail.com</td>\n",
       "      <td>AN.FI SAS DI FIDANZA ANGELO</td>\n",
       "      <td>COD. CLI.  014890</td>\n",
       "      <td>NaN</td>\n",
       "      <td>Soddisfacente</td>\n",
       "      <td>Soddisfacente</td>\n",
       "      <td>Estremamente importante</td>\n",
       "      <td>Soddisfacente</td>\n",
       "      <td>Soddisfacente</td>\n",
       "      <td>Soddisfacente</td>\n",
       "      <td>Alta qualità</td>\n",
       "      <td>Molto positiva</td>\n",
       "      <td>Soddisfacente</td>\n",
       "      <td>Più di 3 anni</td>\n",
       "    </tr>\n",
       "    <tr>\n",
       "      <th>4</th>\n",
       "      <td>1.063923e+10</td>\n",
       "      <td>226941150.0</td>\n",
       "      <td>04/03/2019 09:29:00 PM</td>\n",
       "      <td>04/03/2019 09:30:43 PM</td>\n",
       "      <td>5.90.49.36</td>\n",
       "      <td>pierrosamuel@yahoo.it</td>\n",
       "      <td>ELISIR GELAT. DI PIERRO</td>\n",
       "      <td>COD. CLI.  014388</td>\n",
       "      <td>NaN</td>\n",
       "      <td>Soddisfacente</td>\n",
       "      <td>Soddisfacente</td>\n",
       "      <td>Molto importante</td>\n",
       "      <td>Soddisfacente</td>\n",
       "      <td>Molto insoddisfacente</td>\n",
       "      <td>Molto soddisfacente</td>\n",
       "      <td>Alta qualità</td>\n",
       "      <td>Molto positiva</td>\n",
       "      <td>Molto soddisfacente</td>\n",
       "      <td>Più di 3 anni</td>\n",
       "    </tr>\n",
       "  </tbody>\n",
       "</table>\n",
       "</div>"
      ],
      "text/plain": [
       "   respondent_id  collector_id            date_created  \\\n",
       "0            NaN           NaN                     NaN   \n",
       "1   1.064124e+10   226941150.0  04/04/2019 04:21:31 PM   \n",
       "2   1.064026e+10   226941150.0  04/04/2019 07:55:17 AM   \n",
       "3   1.063991e+10   226941150.0  04/04/2019 03:09:04 AM   \n",
       "4   1.063923e+10   226941150.0  04/03/2019 09:29:00 PM   \n",
       "\n",
       "            date_modified      ip_address                email_address  \\\n",
       "0                     NaN             NaN                          NaN   \n",
       "1  04/04/2019 04:23:43 PM  188.152.254.88       marianicarta@gmail.com   \n",
       "2  04/04/2019 07:57:14 AM    31.177.40.49        katerina@raygelato.it   \n",
       "3  04/04/2019 03:14:50 AM   91.204.250.41  anfidistribuzione@gmail.com   \n",
       "4  04/03/2019 09:30:43 PM      5.90.49.36        pierrosamuel@yahoo.it   \n",
       "\n",
       "                            first_name          last_name  custom_1  \\\n",
       "0                                  NaN                NaN       NaN   \n",
       "1    MAR.CA. S.N.C. di MARIANI A. & C.  COD. CLI.  001299       NaN   \n",
       "2  RAY GELATO SNC DI GREGHI GIANLUCA &  COD. CLI.  019226       NaN   \n",
       "3          AN.FI SAS DI FIDANZA ANGELO  COD. CLI.  014890       NaN   \n",
       "4              ELISIR GELAT. DI PIERRO  COD. CLI.  014388       NaN   \n",
       "\n",
       "  Come valutate il rapporto qualità/prezzo dei prodotti ALCAS?  \\\n",
       "0                                           Response             \n",
       "1                                      Soddisfacente             \n",
       "2                                      Soddisfacente             \n",
       "3                                      Soddisfacente             \n",
       "4                                      Soddisfacente             \n",
       "\n",
       "  Come valutate il rapporto qualità/prezzo dei prodotti ALCAS rispetto alla concorrenza?  \\\n",
       "0                                           Response                                       \n",
       "1                                      Soddisfacente                                       \n",
       "2                           Abbastanza soddisfacente                                       \n",
       "3                                      Soddisfacente                                       \n",
       "4                                      Soddisfacente                                       \n",
       "\n",
       "  Quanto è importante il prezzo per la sua azienda nella scelta di questo tipo di prodotto?  \\\n",
       "0                                           Response                                          \n",
       "1                                   Molto importante                                          \n",
       "2                              Abbastanza importante                                          \n",
       "3                            Estremamente importante                                          \n",
       "4                                   Molto importante                                          \n",
       "\n",
       "  Qual'è la vostra valutazione dei tempi di consegna rispetto alle vostre esigenze?  \\\n",
       "0                                           Response                                  \n",
       "1                                      Soddisfacente                                  \n",
       "2                                      Soddisfacente                                  \n",
       "3                                      Soddisfacente                                  \n",
       "4                                      Soddisfacente                                  \n",
       "\n",
       "  Qual'è la vostra valutazione del materiale di supporto tecnico e normativo fornito?  \\\n",
       "0                                           Response                                    \n",
       "1                                Molto soddisfacente                                    \n",
       "2                           Abbastanza soddisfacente                                    \n",
       "3                                      Soddisfacente                                    \n",
       "4                              Molto insoddisfacente                                    \n",
       "\n",
       "  Come ritenete la capacità di ALCAS di gestire le richieste del cliente?  \\\n",
       "0                                           Response                        \n",
       "1                                      Soddisfacente                        \n",
       "2                                      Soddisfacente                        \n",
       "3                                      Soddisfacente                        \n",
       "4                                Molto soddisfacente                        \n",
       "\n",
       "  Come giudica la qualità di nostri prodotti?  \\\n",
       "0                                    Response   \n",
       "1                                Alta qualità   \n",
       "2                                Alta qualità   \n",
       "3                                Alta qualità   \n",
       "4                                Alta qualità   \n",
       "\n",
       "  Nel complesso, come valuta la sua esperienza con l'assistenza clienti?  \\\n",
       "0                                           Response                       \n",
       "1                                     Molto positiva                       \n",
       "2                                Abbastanza positiva                       \n",
       "3                                     Molto positiva                       \n",
       "4                                     Molto positiva                       \n",
       "\n",
       "  Come valutate la tempestività di ALCAS nella gestione di azioni correttive e di miglioramento?  \\\n",
       "0                                           Response                                               \n",
       "1                           Abbastanza soddisfacente                                               \n",
       "2                                      Soddisfacente                                               \n",
       "3                                      Soddisfacente                                               \n",
       "4                                Molto soddisfacente                                               \n",
       "\n",
       "  Da quanto tempo siete clienti della nostra azienda?  \n",
       "0                                           Response   \n",
       "1                                      Più di 3 anni   \n",
       "2                                      Più di 3 anni   \n",
       "3                                      Più di 3 anni   \n",
       "4                                      Più di 3 anni   "
      ]
     },
     "execution_count": 4,
     "metadata": {},
     "output_type": "execute_result"
    }
   ],
   "source": [
    "dataset.head()"
   ]
  },
  {
   "cell_type": "code",
   "execution_count": 5,
   "metadata": {},
   "outputs": [],
   "source": [
    "#cleaning dei dati"
   ]
  },
  {
   "cell_type": "code",
   "execution_count": 6,
   "metadata": {},
   "outputs": [],
   "source": [
    "domande=['Come valutate il rapporto qualità/prezzo dei prodotti ALCAS?', \n",
    "         'Come valutate il rapporto qualità/prezzo dei prodotti ALCAS rispetto alla concorrenza?', \n",
    "         'Quanto è importante il prezzo per la sua azienda nella scelta di questo tipo di prodotto?', \n",
    "         'Qual''è la vostra valutazione dei tempi di consegna rispetto alle vostre esigenze?', \n",
    "         'Qual''è la vostra valutazione del materiale di supporto tecnico e normativo fornito?', \n",
    "         'Come ritenete la capacità di ALCAS di gestire le richieste del cliente?', \n",
    "         'Come giudica la qualità di nostri prodotti?', \n",
    "         'Nel complesso, come valuta la sua esperienza con l''assistenza clienti?', \n",
    "         'Come valutate la tempestività di ALCAS nella gestione di azioni correttive e di miglioramento?', \n",
    "         'Da quanto tempo siete clienti della nostra azienda?']"
   ]
  },
  {
   "cell_type": "code",
   "execution_count": 7,
   "metadata": {},
   "outputs": [],
   "source": [
    "dataset=dataset.drop([0])"
   ]
  },
  {
   "cell_type": "code",
   "execution_count": 8,
   "metadata": {},
   "outputs": [],
   "source": [
    "dataset=dataset.drop(['respondent_id', 'collector_id', 'ip_address', 'custom_1'], axis=1)"
   ]
  },
  {
   "cell_type": "code",
   "execution_count": 9,
   "metadata": {},
   "outputs": [],
   "source": [
    "dataset.columns=[\"date_created\",\"date_modified\",\"email_address\",\"RagioneSociale\",\"CodiceCliente\",\"Q1\",\"Q2\",\"Q3\",\"Q4\",\"Q5\",\"Q6\",\"Q7\",\"Q8\",\"Q9\",\"Q10\"]"
   ]
  },
  {
   "cell_type": "code",
   "execution_count": 10,
   "metadata": {},
   "outputs": [],
   "source": [
    "dataset=dataset.reset_index()"
   ]
  },
  {
   "cell_type": "code",
   "execution_count": 11,
   "metadata": {},
   "outputs": [],
   "source": [
    "dataset=dataset.drop(['index'], axis=1)"
   ]
  },
  {
   "cell_type": "code",
   "execution_count": 12,
   "metadata": {},
   "outputs": [],
   "source": [
    "dataset['CodiceCliente']=dataset['CodiceCliente'].str[11:]"
   ]
  },
  {
   "cell_type": "code",
   "execution_count": 13,
   "metadata": {},
   "outputs": [
    {
     "data": {
      "text/html": [
       "<div>\n",
       "<style scoped>\n",
       "    .dataframe tbody tr th:only-of-type {\n",
       "        vertical-align: middle;\n",
       "    }\n",
       "\n",
       "    .dataframe tbody tr th {\n",
       "        vertical-align: top;\n",
       "    }\n",
       "\n",
       "    .dataframe thead th {\n",
       "        text-align: right;\n",
       "    }\n",
       "</style>\n",
       "<table border=\"1\" class=\"dataframe\">\n",
       "  <thead>\n",
       "    <tr style=\"text-align: right;\">\n",
       "      <th></th>\n",
       "      <th>date_created</th>\n",
       "      <th>date_modified</th>\n",
       "      <th>email_address</th>\n",
       "      <th>RagioneSociale</th>\n",
       "      <th>CodiceCliente</th>\n",
       "      <th>Q1</th>\n",
       "      <th>Q2</th>\n",
       "      <th>Q3</th>\n",
       "      <th>Q4</th>\n",
       "      <th>Q5</th>\n",
       "      <th>Q6</th>\n",
       "      <th>Q7</th>\n",
       "      <th>Q8</th>\n",
       "      <th>Q9</th>\n",
       "      <th>Q10</th>\n",
       "    </tr>\n",
       "  </thead>\n",
       "  <tbody>\n",
       "    <tr>\n",
       "      <th>0</th>\n",
       "      <td>04/04/2019 04:21:31 PM</td>\n",
       "      <td>04/04/2019 04:23:43 PM</td>\n",
       "      <td>marianicarta@gmail.com</td>\n",
       "      <td>MAR.CA. S.N.C. di MARIANI A. &amp; C.</td>\n",
       "      <td>001299</td>\n",
       "      <td>Soddisfacente</td>\n",
       "      <td>Soddisfacente</td>\n",
       "      <td>Molto importante</td>\n",
       "      <td>Soddisfacente</td>\n",
       "      <td>Molto soddisfacente</td>\n",
       "      <td>Soddisfacente</td>\n",
       "      <td>Alta qualità</td>\n",
       "      <td>Molto positiva</td>\n",
       "      <td>Abbastanza soddisfacente</td>\n",
       "      <td>Più di 3 anni</td>\n",
       "    </tr>\n",
       "    <tr>\n",
       "      <th>1</th>\n",
       "      <td>04/04/2019 07:55:17 AM</td>\n",
       "      <td>04/04/2019 07:57:14 AM</td>\n",
       "      <td>katerina@raygelato.it</td>\n",
       "      <td>RAY GELATO SNC DI GREGHI GIANLUCA &amp;</td>\n",
       "      <td>019226</td>\n",
       "      <td>Soddisfacente</td>\n",
       "      <td>Abbastanza soddisfacente</td>\n",
       "      <td>Abbastanza importante</td>\n",
       "      <td>Soddisfacente</td>\n",
       "      <td>Abbastanza soddisfacente</td>\n",
       "      <td>Soddisfacente</td>\n",
       "      <td>Alta qualità</td>\n",
       "      <td>Abbastanza positiva</td>\n",
       "      <td>Soddisfacente</td>\n",
       "      <td>Più di 3 anni</td>\n",
       "    </tr>\n",
       "    <tr>\n",
       "      <th>2</th>\n",
       "      <td>04/04/2019 03:09:04 AM</td>\n",
       "      <td>04/04/2019 03:14:50 AM</td>\n",
       "      <td>anfidistribuzione@gmail.com</td>\n",
       "      <td>AN.FI SAS DI FIDANZA ANGELO</td>\n",
       "      <td>014890</td>\n",
       "      <td>Soddisfacente</td>\n",
       "      <td>Soddisfacente</td>\n",
       "      <td>Estremamente importante</td>\n",
       "      <td>Soddisfacente</td>\n",
       "      <td>Soddisfacente</td>\n",
       "      <td>Soddisfacente</td>\n",
       "      <td>Alta qualità</td>\n",
       "      <td>Molto positiva</td>\n",
       "      <td>Soddisfacente</td>\n",
       "      <td>Più di 3 anni</td>\n",
       "    </tr>\n",
       "    <tr>\n",
       "      <th>3</th>\n",
       "      <td>04/03/2019 09:29:00 PM</td>\n",
       "      <td>04/03/2019 09:30:43 PM</td>\n",
       "      <td>pierrosamuel@yahoo.it</td>\n",
       "      <td>ELISIR GELAT. DI PIERRO</td>\n",
       "      <td>014388</td>\n",
       "      <td>Soddisfacente</td>\n",
       "      <td>Soddisfacente</td>\n",
       "      <td>Molto importante</td>\n",
       "      <td>Soddisfacente</td>\n",
       "      <td>Molto insoddisfacente</td>\n",
       "      <td>Molto soddisfacente</td>\n",
       "      <td>Alta qualità</td>\n",
       "      <td>Molto positiva</td>\n",
       "      <td>Molto soddisfacente</td>\n",
       "      <td>Più di 3 anni</td>\n",
       "    </tr>\n",
       "    <tr>\n",
       "      <th>4</th>\n",
       "      <td>04/03/2019 05:33:35 PM</td>\n",
       "      <td>04/03/2019 05:34:46 PM</td>\n",
       "      <td>info@cioccolateriavesuviana.it</td>\n",
       "      <td>CIOCCOLATERIA VESUVIANA DI NASTI</td>\n",
       "      <td>012624</td>\n",
       "      <td>Soddisfacente</td>\n",
       "      <td>Soddisfacente</td>\n",
       "      <td>Molto importante</td>\n",
       "      <td>Soddisfacente</td>\n",
       "      <td>Soddisfacente</td>\n",
       "      <td>Soddisfacente</td>\n",
       "      <td>Alta qualità</td>\n",
       "      <td>Molto positiva</td>\n",
       "      <td>Molto soddisfacente</td>\n",
       "      <td>Più di 3 anni</td>\n",
       "    </tr>\n",
       "  </tbody>\n",
       "</table>\n",
       "</div>"
      ],
      "text/plain": [
       "             date_created           date_modified  \\\n",
       "0  04/04/2019 04:21:31 PM  04/04/2019 04:23:43 PM   \n",
       "1  04/04/2019 07:55:17 AM  04/04/2019 07:57:14 AM   \n",
       "2  04/04/2019 03:09:04 AM  04/04/2019 03:14:50 AM   \n",
       "3  04/03/2019 09:29:00 PM  04/03/2019 09:30:43 PM   \n",
       "4  04/03/2019 05:33:35 PM  04/03/2019 05:34:46 PM   \n",
       "\n",
       "                    email_address                       RagioneSociale  \\\n",
       "0          marianicarta@gmail.com    MAR.CA. S.N.C. di MARIANI A. & C.   \n",
       "1           katerina@raygelato.it  RAY GELATO SNC DI GREGHI GIANLUCA &   \n",
       "2     anfidistribuzione@gmail.com          AN.FI SAS DI FIDANZA ANGELO   \n",
       "3           pierrosamuel@yahoo.it              ELISIR GELAT. DI PIERRO   \n",
       "4  info@cioccolateriavesuviana.it     CIOCCOLATERIA VESUVIANA DI NASTI   \n",
       "\n",
       "  CodiceCliente             Q1                        Q2  \\\n",
       "0        001299  Soddisfacente             Soddisfacente   \n",
       "1        019226  Soddisfacente  Abbastanza soddisfacente   \n",
       "2        014890  Soddisfacente             Soddisfacente   \n",
       "3        014388  Soddisfacente             Soddisfacente   \n",
       "4        012624  Soddisfacente             Soddisfacente   \n",
       "\n",
       "                        Q3             Q4                        Q5  \\\n",
       "0         Molto importante  Soddisfacente       Molto soddisfacente   \n",
       "1    Abbastanza importante  Soddisfacente  Abbastanza soddisfacente   \n",
       "2  Estremamente importante  Soddisfacente             Soddisfacente   \n",
       "3         Molto importante  Soddisfacente     Molto insoddisfacente   \n",
       "4         Molto importante  Soddisfacente             Soddisfacente   \n",
       "\n",
       "                    Q6            Q7                   Q8  \\\n",
       "0        Soddisfacente  Alta qualità       Molto positiva   \n",
       "1        Soddisfacente  Alta qualità  Abbastanza positiva   \n",
       "2        Soddisfacente  Alta qualità       Molto positiva   \n",
       "3  Molto soddisfacente  Alta qualità       Molto positiva   \n",
       "4        Soddisfacente  Alta qualità       Molto positiva   \n",
       "\n",
       "                         Q9            Q10  \n",
       "0  Abbastanza soddisfacente  Più di 3 anni  \n",
       "1             Soddisfacente  Più di 3 anni  \n",
       "2             Soddisfacente  Più di 3 anni  \n",
       "3       Molto soddisfacente  Più di 3 anni  \n",
       "4       Molto soddisfacente  Più di 3 anni  "
      ]
     },
     "execution_count": 13,
     "metadata": {},
     "output_type": "execute_result"
    }
   ],
   "source": [
    "dataset.head()"
   ]
  },
  {
   "cell_type": "code",
   "execution_count": 14,
   "metadata": {},
   "outputs": [
    {
     "data": {
      "text/plain": [
       "['Soddisfacente',\n",
       " 'Abbastanza soddisfacente',\n",
       " 'Molto soddisfacente',\n",
       " 'Molto insoddisfacente',\n",
       " 'Insoddisfacente',\n",
       " nan]"
      ]
     },
     "execution_count": 14,
     "metadata": {},
     "output_type": "execute_result"
    }
   ],
   "source": [
    "list(dataset[\"Q1\"].unique())"
   ]
  },
  {
   "cell_type": "code",
   "execution_count": 15,
   "metadata": {},
   "outputs": [
    {
     "data": {
      "text/plain": [
       "['Soddisfacente',\n",
       " 'Abbastanza soddisfacente',\n",
       " 'Molto insoddisfacente',\n",
       " 'Insoddisfacente',\n",
       " 'Molto soddisfacente',\n",
       " nan]"
      ]
     },
     "execution_count": 15,
     "metadata": {},
     "output_type": "execute_result"
    }
   ],
   "source": [
    "list(dataset[\"Q2\"].unique())"
   ]
  },
  {
   "cell_type": "code",
   "execution_count": 16,
   "metadata": {},
   "outputs": [
    {
     "data": {
      "text/plain": [
       "['Molto importante',\n",
       " 'Abbastanza importante',\n",
       " 'Estremamente importante',\n",
       " 'Non tanto importante',\n",
       " 'Per nulla importante',\n",
       " nan]"
      ]
     },
     "execution_count": 16,
     "metadata": {},
     "output_type": "execute_result"
    }
   ],
   "source": [
    "list(dataset[\"Q3\"].unique())"
   ]
  },
  {
   "cell_type": "code",
   "execution_count": 17,
   "metadata": {},
   "outputs": [
    {
     "data": {
      "text/plain": [
       "['Soddisfacente',\n",
       " 'Molto soddisfacente',\n",
       " 'Insoddisfacente',\n",
       " 'Abbastanza soddisfacente',\n",
       " 'Molto insoddisfacente',\n",
       " nan]"
      ]
     },
     "execution_count": 17,
     "metadata": {},
     "output_type": "execute_result"
    }
   ],
   "source": [
    "list(dataset[\"Q4\"].unique())"
   ]
  },
  {
   "cell_type": "code",
   "execution_count": 18,
   "metadata": {},
   "outputs": [
    {
     "data": {
      "text/plain": [
       "['Molto soddisfacente',\n",
       " 'Abbastanza soddisfacente',\n",
       " 'Soddisfacente',\n",
       " 'Molto insoddisfacente',\n",
       " 'Insoddisfacente',\n",
       " nan]"
      ]
     },
     "execution_count": 18,
     "metadata": {},
     "output_type": "execute_result"
    }
   ],
   "source": [
    "list(dataset[\"Q5\"].unique())"
   ]
  },
  {
   "cell_type": "code",
   "execution_count": 19,
   "metadata": {},
   "outputs": [
    {
     "data": {
      "text/plain": [
       "['Soddisfacente',\n",
       " 'Molto soddisfacente',\n",
       " 'Abbastanza soddisfacente',\n",
       " 'Molto insoddisfacente',\n",
       " 'Insoddisfacente',\n",
       " nan]"
      ]
     },
     "execution_count": 19,
     "metadata": {},
     "output_type": "execute_result"
    }
   ],
   "source": [
    "list(dataset[\"Q6\"].unique())"
   ]
  },
  {
   "cell_type": "code",
   "execution_count": 20,
   "metadata": {},
   "outputs": [
    {
     "data": {
      "text/plain": [
       "['Alta qualità',\n",
       " 'Altissima qualità',\n",
       " 'Media qualità',\n",
       " 'Bassa qualità',\n",
       " 'Bassissima qualità',\n",
       " nan]"
      ]
     },
     "execution_count": 20,
     "metadata": {},
     "output_type": "execute_result"
    }
   ],
   "source": [
    "list(dataset[\"Q7\"].unique())"
   ]
  },
  {
   "cell_type": "code",
   "execution_count": 21,
   "metadata": {},
   "outputs": [
    {
     "data": {
      "text/plain": [
       "['Molto positiva',\n",
       " 'Abbastanza positiva',\n",
       " 'Neutra',\n",
       " 'Abbastanza negativa',\n",
       " 'Molto negativa',\n",
       " nan]"
      ]
     },
     "execution_count": 21,
     "metadata": {},
     "output_type": "execute_result"
    }
   ],
   "source": [
    "list(dataset[\"Q8\"].unique())"
   ]
  },
  {
   "cell_type": "code",
   "execution_count": 22,
   "metadata": {},
   "outputs": [
    {
     "data": {
      "text/plain": [
       "['Abbastanza soddisfacente',\n",
       " 'Soddisfacente',\n",
       " 'Molto soddisfacente',\n",
       " 'Molto insoddisfacente',\n",
       " 'Insoddisfacente',\n",
       " nan]"
      ]
     },
     "execution_count": 22,
     "metadata": {},
     "output_type": "execute_result"
    }
   ],
   "source": [
    "list(dataset[\"Q9\"].unique())"
   ]
  },
  {
   "cell_type": "code",
   "execution_count": 23,
   "metadata": {},
   "outputs": [
    {
     "data": {
      "text/plain": [
       "['Più di 3 anni',\n",
       " '1 - 3 anni',\n",
       " 'Meno di sei mesi',\n",
       " 'Da sei mesi a un anno',\n",
       " nan]"
      ]
     },
     "execution_count": 23,
     "metadata": {},
     "output_type": "execute_result"
    }
   ],
   "source": [
    "list(dataset[\"Q10\"].unique())"
   ]
  },
  {
   "cell_type": "code",
   "execution_count": 24,
   "metadata": {},
   "outputs": [],
   "source": [
    "#trasformare Q1... in ordinali\n",
    "ordered_satisfaction = {'Molto insoddisfacente':0, 'Insoddisfacente':1, 'Abbastanza soddisfacente':2, 'Soddisfacente':3, 'Molto soddisfacente':4}\n",
    "inv_ordered_satisfaction = {v:k for k, v in ordered_satisfaction.items()}\n",
    "#dataset.Q1.astype(\"category\", ordered=True, categories=ordered_satisfaction)\n",
    "dataset['Q1']=dataset['Q1'].map(ordered_satisfaction) "
   ]
  },
  {
   "cell_type": "code",
   "execution_count": 25,
   "metadata": {},
   "outputs": [],
   "source": [
    "dataset['Q2']=dataset['Q2'].map(ordered_satisfaction) \n",
    "dataset['Q4']=dataset['Q4'].map(ordered_satisfaction) \n",
    "dataset['Q5']=dataset['Q5'].map(ordered_satisfaction) \n",
    "dataset['Q6']=dataset['Q6'].map(ordered_satisfaction) \n",
    "dataset['Q9']=dataset['Q9'].map(ordered_satisfaction) "
   ]
  },
  {
   "cell_type": "code",
   "execution_count": 26,
   "metadata": {},
   "outputs": [],
   "source": [
    "#trasformare Q3... in ordinali\n",
    "ordered_satisfaction_Q3 = {'Per nulla importante':0, 'Non tanto importante':1, 'Abbastanza importante':2, 'Molto importante':3, 'Estremamente importante':4}\n",
    "inv_ordered_satisfaction_Q3 = {v:k for k, v in ordered_satisfaction_Q3.items()}\n",
    "dataset['Q3']=dataset['Q3'].map(ordered_satisfaction_Q3) "
   ]
  },
  {
   "cell_type": "code",
   "execution_count": 27,
   "metadata": {},
   "outputs": [],
   "source": [
    "#trasformare Q7... in ordinali\n",
    "ordered_satisfaction_Q7 = {'Bassissima qualità':0, 'Bassa qualità':1, 'Media qualità':2, 'Alta qualità':3, 'Altissima qualità':4}\n",
    "inv_ordered_satisfaction_Q7 = {v:k for k, v in ordered_satisfaction_Q7.items()}\n",
    "dataset['Q7']=dataset['Q7'].map(ordered_satisfaction_Q7) "
   ]
  },
  {
   "cell_type": "code",
   "execution_count": 28,
   "metadata": {},
   "outputs": [],
   "source": [
    "#trasformare Q8... in ordinali\n",
    "ordered_satisfaction_Q8 = {'Molto negativa':0, 'Abbastanza negativa':1, 'Neutra':2, 'Abbastanza positiva':3, 'Molto positiva':4}\n",
    "inv_ordered_satisfaction_Q8 = {v:k for k, v in ordered_satisfaction_Q8.items()}\n",
    "dataset['Q8']=dataset['Q8'].map(ordered_satisfaction_Q8) "
   ]
  },
  {
   "cell_type": "code",
   "execution_count": 29,
   "metadata": {},
   "outputs": [],
   "source": [
    "#trasformare Q10... in ordinali\n",
    "ordered_satisfaction_Q10 = {'Meno di sei mesi':0, 'Da sei mesi a un anno':1, '1 - 3 anni':2, 'Più di 3 anni':3}\n",
    "inv_ordered_satisfaction_Q10 = {v:k for k, v in ordered_satisfaction_Q10.items()}\n",
    "dataset['Q10']=dataset['Q10'].map(ordered_satisfaction_Q10) "
   ]
  },
  {
   "cell_type": "code",
   "execution_count": 30,
   "metadata": {},
   "outputs": [
    {
     "data": {
      "text/html": [
       "<div>\n",
       "<style scoped>\n",
       "    .dataframe tbody tr th:only-of-type {\n",
       "        vertical-align: middle;\n",
       "    }\n",
       "\n",
       "    .dataframe tbody tr th {\n",
       "        vertical-align: top;\n",
       "    }\n",
       "\n",
       "    .dataframe thead th {\n",
       "        text-align: right;\n",
       "    }\n",
       "</style>\n",
       "<table border=\"1\" class=\"dataframe\">\n",
       "  <thead>\n",
       "    <tr style=\"text-align: right;\">\n",
       "      <th></th>\n",
       "      <th>date_created</th>\n",
       "      <th>date_modified</th>\n",
       "      <th>email_address</th>\n",
       "      <th>RagioneSociale</th>\n",
       "      <th>CodiceCliente</th>\n",
       "      <th>Q1</th>\n",
       "      <th>Q2</th>\n",
       "      <th>Q3</th>\n",
       "      <th>Q4</th>\n",
       "      <th>Q5</th>\n",
       "      <th>Q6</th>\n",
       "      <th>Q7</th>\n",
       "      <th>Q8</th>\n",
       "      <th>Q9</th>\n",
       "      <th>Q10</th>\n",
       "    </tr>\n",
       "  </thead>\n",
       "  <tbody>\n",
       "    <tr>\n",
       "      <th>0</th>\n",
       "      <td>04/04/2019 04:21:31 PM</td>\n",
       "      <td>04/04/2019 04:23:43 PM</td>\n",
       "      <td>marianicarta@gmail.com</td>\n",
       "      <td>MAR.CA. S.N.C. di MARIANI A. &amp; C.</td>\n",
       "      <td>001299</td>\n",
       "      <td>3.0</td>\n",
       "      <td>3.0</td>\n",
       "      <td>3.0</td>\n",
       "      <td>3.0</td>\n",
       "      <td>4.0</td>\n",
       "      <td>3.0</td>\n",
       "      <td>3.0</td>\n",
       "      <td>4.0</td>\n",
       "      <td>2.0</td>\n",
       "      <td>3.0</td>\n",
       "    </tr>\n",
       "    <tr>\n",
       "      <th>1</th>\n",
       "      <td>04/04/2019 07:55:17 AM</td>\n",
       "      <td>04/04/2019 07:57:14 AM</td>\n",
       "      <td>katerina@raygelato.it</td>\n",
       "      <td>RAY GELATO SNC DI GREGHI GIANLUCA &amp;</td>\n",
       "      <td>019226</td>\n",
       "      <td>3.0</td>\n",
       "      <td>2.0</td>\n",
       "      <td>2.0</td>\n",
       "      <td>3.0</td>\n",
       "      <td>2.0</td>\n",
       "      <td>3.0</td>\n",
       "      <td>3.0</td>\n",
       "      <td>3.0</td>\n",
       "      <td>3.0</td>\n",
       "      <td>3.0</td>\n",
       "    </tr>\n",
       "    <tr>\n",
       "      <th>2</th>\n",
       "      <td>04/04/2019 03:09:04 AM</td>\n",
       "      <td>04/04/2019 03:14:50 AM</td>\n",
       "      <td>anfidistribuzione@gmail.com</td>\n",
       "      <td>AN.FI SAS DI FIDANZA ANGELO</td>\n",
       "      <td>014890</td>\n",
       "      <td>3.0</td>\n",
       "      <td>3.0</td>\n",
       "      <td>4.0</td>\n",
       "      <td>3.0</td>\n",
       "      <td>3.0</td>\n",
       "      <td>3.0</td>\n",
       "      <td>3.0</td>\n",
       "      <td>4.0</td>\n",
       "      <td>3.0</td>\n",
       "      <td>3.0</td>\n",
       "    </tr>\n",
       "    <tr>\n",
       "      <th>3</th>\n",
       "      <td>04/03/2019 09:29:00 PM</td>\n",
       "      <td>04/03/2019 09:30:43 PM</td>\n",
       "      <td>pierrosamuel@yahoo.it</td>\n",
       "      <td>ELISIR GELAT. DI PIERRO</td>\n",
       "      <td>014388</td>\n",
       "      <td>3.0</td>\n",
       "      <td>3.0</td>\n",
       "      <td>3.0</td>\n",
       "      <td>3.0</td>\n",
       "      <td>0.0</td>\n",
       "      <td>4.0</td>\n",
       "      <td>3.0</td>\n",
       "      <td>4.0</td>\n",
       "      <td>4.0</td>\n",
       "      <td>3.0</td>\n",
       "    </tr>\n",
       "    <tr>\n",
       "      <th>4</th>\n",
       "      <td>04/03/2019 05:33:35 PM</td>\n",
       "      <td>04/03/2019 05:34:46 PM</td>\n",
       "      <td>info@cioccolateriavesuviana.it</td>\n",
       "      <td>CIOCCOLATERIA VESUVIANA DI NASTI</td>\n",
       "      <td>012624</td>\n",
       "      <td>3.0</td>\n",
       "      <td>3.0</td>\n",
       "      <td>3.0</td>\n",
       "      <td>3.0</td>\n",
       "      <td>3.0</td>\n",
       "      <td>3.0</td>\n",
       "      <td>3.0</td>\n",
       "      <td>4.0</td>\n",
       "      <td>4.0</td>\n",
       "      <td>3.0</td>\n",
       "    </tr>\n",
       "  </tbody>\n",
       "</table>\n",
       "</div>"
      ],
      "text/plain": [
       "             date_created           date_modified  \\\n",
       "0  04/04/2019 04:21:31 PM  04/04/2019 04:23:43 PM   \n",
       "1  04/04/2019 07:55:17 AM  04/04/2019 07:57:14 AM   \n",
       "2  04/04/2019 03:09:04 AM  04/04/2019 03:14:50 AM   \n",
       "3  04/03/2019 09:29:00 PM  04/03/2019 09:30:43 PM   \n",
       "4  04/03/2019 05:33:35 PM  04/03/2019 05:34:46 PM   \n",
       "\n",
       "                    email_address                       RagioneSociale  \\\n",
       "0          marianicarta@gmail.com    MAR.CA. S.N.C. di MARIANI A. & C.   \n",
       "1           katerina@raygelato.it  RAY GELATO SNC DI GREGHI GIANLUCA &   \n",
       "2     anfidistribuzione@gmail.com          AN.FI SAS DI FIDANZA ANGELO   \n",
       "3           pierrosamuel@yahoo.it              ELISIR GELAT. DI PIERRO   \n",
       "4  info@cioccolateriavesuviana.it     CIOCCOLATERIA VESUVIANA DI NASTI   \n",
       "\n",
       "  CodiceCliente   Q1   Q2   Q3   Q4   Q5   Q6   Q7   Q8   Q9  Q10  \n",
       "0        001299  3.0  3.0  3.0  3.0  4.0  3.0  3.0  4.0  2.0  3.0  \n",
       "1        019226  3.0  2.0  2.0  3.0  2.0  3.0  3.0  3.0  3.0  3.0  \n",
       "2        014890  3.0  3.0  4.0  3.0  3.0  3.0  3.0  4.0  3.0  3.0  \n",
       "3        014388  3.0  3.0  3.0  3.0  0.0  4.0  3.0  4.0  4.0  3.0  \n",
       "4        012624  3.0  3.0  3.0  3.0  3.0  3.0  3.0  4.0  4.0  3.0  "
      ]
     },
     "execution_count": 30,
     "metadata": {},
     "output_type": "execute_result"
    }
   ],
   "source": [
    "dataset.head()"
   ]
  },
  {
   "cell_type": "code",
   "execution_count": 31,
   "metadata": {},
   "outputs": [
    {
     "data": {
      "text/html": [
       "<div>\n",
       "<style scoped>\n",
       "    .dataframe tbody tr th:only-of-type {\n",
       "        vertical-align: middle;\n",
       "    }\n",
       "\n",
       "    .dataframe tbody tr th {\n",
       "        vertical-align: top;\n",
       "    }\n",
       "\n",
       "    .dataframe thead th {\n",
       "        text-align: right;\n",
       "    }\n",
       "</style>\n",
       "<table border=\"1\" class=\"dataframe\">\n",
       "  <thead>\n",
       "    <tr style=\"text-align: right;\">\n",
       "      <th></th>\n",
       "      <th>Q1</th>\n",
       "      <th>Q2</th>\n",
       "      <th>Q3</th>\n",
       "      <th>Q4</th>\n",
       "      <th>Q5</th>\n",
       "      <th>Q6</th>\n",
       "      <th>Q7</th>\n",
       "      <th>Q8</th>\n",
       "      <th>Q9</th>\n",
       "      <th>Q10</th>\n",
       "    </tr>\n",
       "  </thead>\n",
       "  <tbody>\n",
       "    <tr>\n",
       "      <th>count</th>\n",
       "      <td>379.000000</td>\n",
       "      <td>372.000000</td>\n",
       "      <td>382.000000</td>\n",
       "      <td>380.000000</td>\n",
       "      <td>363.000000</td>\n",
       "      <td>374.000000</td>\n",
       "      <td>381.000000</td>\n",
       "      <td>382.000000</td>\n",
       "      <td>375.000000</td>\n",
       "      <td>380.000000</td>\n",
       "    </tr>\n",
       "    <tr>\n",
       "      <th>mean</th>\n",
       "      <td>2.675462</td>\n",
       "      <td>2.494624</td>\n",
       "      <td>2.683246</td>\n",
       "      <td>2.784211</td>\n",
       "      <td>2.614325</td>\n",
       "      <td>2.737968</td>\n",
       "      <td>2.905512</td>\n",
       "      <td>3.023560</td>\n",
       "      <td>2.618667</td>\n",
       "      <td>2.852632</td>\n",
       "    </tr>\n",
       "    <tr>\n",
       "      <th>std</th>\n",
       "      <td>0.808490</td>\n",
       "      <td>0.757691</td>\n",
       "      <td>0.864391</td>\n",
       "      <td>0.901926</td>\n",
       "      <td>0.966290</td>\n",
       "      <td>0.876137</td>\n",
       "      <td>0.590714</td>\n",
       "      <td>0.846155</td>\n",
       "      <td>0.902269</td>\n",
       "      <td>0.475654</td>\n",
       "    </tr>\n",
       "    <tr>\n",
       "      <th>min</th>\n",
       "      <td>0.000000</td>\n",
       "      <td>0.000000</td>\n",
       "      <td>0.000000</td>\n",
       "      <td>0.000000</td>\n",
       "      <td>0.000000</td>\n",
       "      <td>0.000000</td>\n",
       "      <td>0.000000</td>\n",
       "      <td>0.000000</td>\n",
       "      <td>0.000000</td>\n",
       "      <td>0.000000</td>\n",
       "    </tr>\n",
       "    <tr>\n",
       "      <th>25%</th>\n",
       "      <td>2.000000</td>\n",
       "      <td>2.000000</td>\n",
       "      <td>2.000000</td>\n",
       "      <td>2.000000</td>\n",
       "      <td>2.000000</td>\n",
       "      <td>2.000000</td>\n",
       "      <td>3.000000</td>\n",
       "      <td>2.000000</td>\n",
       "      <td>2.000000</td>\n",
       "      <td>3.000000</td>\n",
       "    </tr>\n",
       "    <tr>\n",
       "      <th>50%</th>\n",
       "      <td>3.000000</td>\n",
       "      <td>2.000000</td>\n",
       "      <td>3.000000</td>\n",
       "      <td>3.000000</td>\n",
       "      <td>3.000000</td>\n",
       "      <td>3.000000</td>\n",
       "      <td>3.000000</td>\n",
       "      <td>3.000000</td>\n",
       "      <td>3.000000</td>\n",
       "      <td>3.000000</td>\n",
       "    </tr>\n",
       "    <tr>\n",
       "      <th>75%</th>\n",
       "      <td>3.000000</td>\n",
       "      <td>3.000000</td>\n",
       "      <td>3.000000</td>\n",
       "      <td>3.000000</td>\n",
       "      <td>3.000000</td>\n",
       "      <td>3.000000</td>\n",
       "      <td>3.000000</td>\n",
       "      <td>4.000000</td>\n",
       "      <td>3.000000</td>\n",
       "      <td>3.000000</td>\n",
       "    </tr>\n",
       "    <tr>\n",
       "      <th>max</th>\n",
       "      <td>4.000000</td>\n",
       "      <td>4.000000</td>\n",
       "      <td>4.000000</td>\n",
       "      <td>4.000000</td>\n",
       "      <td>4.000000</td>\n",
       "      <td>4.000000</td>\n",
       "      <td>4.000000</td>\n",
       "      <td>4.000000</td>\n",
       "      <td>4.000000</td>\n",
       "      <td>3.000000</td>\n",
       "    </tr>\n",
       "  </tbody>\n",
       "</table>\n",
       "</div>"
      ],
      "text/plain": [
       "               Q1          Q2          Q3          Q4          Q5          Q6  \\\n",
       "count  379.000000  372.000000  382.000000  380.000000  363.000000  374.000000   \n",
       "mean     2.675462    2.494624    2.683246    2.784211    2.614325    2.737968   \n",
       "std      0.808490    0.757691    0.864391    0.901926    0.966290    0.876137   \n",
       "min      0.000000    0.000000    0.000000    0.000000    0.000000    0.000000   \n",
       "25%      2.000000    2.000000    2.000000    2.000000    2.000000    2.000000   \n",
       "50%      3.000000    2.000000    3.000000    3.000000    3.000000    3.000000   \n",
       "75%      3.000000    3.000000    3.000000    3.000000    3.000000    3.000000   \n",
       "max      4.000000    4.000000    4.000000    4.000000    4.000000    4.000000   \n",
       "\n",
       "               Q7          Q8          Q9         Q10  \n",
       "count  381.000000  382.000000  375.000000  380.000000  \n",
       "mean     2.905512    3.023560    2.618667    2.852632  \n",
       "std      0.590714    0.846155    0.902269    0.475654  \n",
       "min      0.000000    0.000000    0.000000    0.000000  \n",
       "25%      3.000000    2.000000    2.000000    3.000000  \n",
       "50%      3.000000    3.000000    3.000000    3.000000  \n",
       "75%      3.000000    4.000000    3.000000    3.000000  \n",
       "max      4.000000    4.000000    4.000000    3.000000  "
      ]
     },
     "execution_count": 31,
     "metadata": {},
     "output_type": "execute_result"
    }
   ],
   "source": [
    "dataset.describe()"
   ]
  },
  {
   "cell_type": "code",
   "execution_count": 33,
   "metadata": {},
   "outputs": [
    {
     "data": {
      "text/plain": [
       "'Molto insoddisfacente'"
      ]
     },
     "execution_count": 33,
     "metadata": {},
     "output_type": "execute_result"
    }
   ],
   "source": [
    "inv_ordered_satisfaction[0]"
   ]
  },
  {
   "cell_type": "code",
   "execution_count": 37,
   "metadata": {},
   "outputs": [
    {
     "name": "stdout",
     "output_type": "stream",
     "text": [
      "Domanda: Come valutate il rapporto qualità/prezzo dei prodotti ALCAS?\n",
      "Possibili risposte:\n",
      "\tMolto insoddisfacente\n",
      "\tInsoddisfacente\n",
      "\tAbbastanza soddisfacente\n",
      "\tSoddisfacente\n",
      "\tMolto soddisfacente\n",
      "\n",
      "Clienti che hanno risposto: 379\n",
      "Media: 2.68\n",
      "Deviazione standard: 0.81\n"
     ]
    }
   ],
   "source": [
    "# @hidden_cell\n",
    "print(\"Domanda: \" + domande[0])\n",
    "print(\"Possibili risposte:\")\n",
    "for i in range(0,5):\n",
    "    print(\"\\t\"+inv_ordered_satisfaction[i])\n",
    "print()\n",
    "print(\"Clienti che hanno risposto: \" + str(dataset['Q1'].count()))\n",
    "print(\"Media: \" + str(round(dataset['Q1'].mean(),2)))\n",
    "print(\"Deviazione standard: \" + str(round(dataset['Q1'].std(),2)))\n"
   ]
  },
  {
   "cell_type": "markdown",
   "metadata": {},
   "source": [
    "# Statistiche Q1\n",
    "'''python\n",
    "print(\"Domanda: \" + domande[0])\n",
    "print(\"Possibili risposte:\")\n",
    "for i in range(0,5):\n",
    "    print(\"\\t\"+inv_ordered_satisfaction[i])\n",
    "print()\n",
    "print(\"Clienti che hanno risposto: \" + str(dataset['Q1'].count()))\n",
    "print(\"Media: \" + str(round(dataset['Q1'].mean(),2)))\n",
    "print(\"Deviazione standard: \" + str(round(dataset['Q1'].std(),2)))\n",
    "\n",
    "'''"
   ]
  },
  {
   "cell_type": "markdown",
   "metadata": {},
   "source": [
    "```python\n",
    "print \"Hello World\"\n",
    "```"
   ]
  },
  {
   "cell_type": "code",
   "execution_count": null,
   "metadata": {},
   "outputs": [],
   "source": []
  },
  {
   "cell_type": "code",
   "execution_count": null,
   "metadata": {},
   "outputs": [],
   "source": []
  }
 ],
 "metadata": {
  "kernelspec": {
   "display_name": "Python 3",
   "language": "python",
   "name": "python3"
  },
  "language_info": {
   "codemirror_mode": {
    "name": "ipython",
    "version": 3
   },
   "file_extension": ".py",
   "mimetype": "text/x-python",
   "name": "python",
   "nbconvert_exporter": "python",
   "pygments_lexer": "ipython3",
   "version": "3.6.8"
  }
 },
 "nbformat": 4,
 "nbformat_minor": 2
}
